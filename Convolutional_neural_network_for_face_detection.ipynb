{
  "nbformat": 4,
  "nbformat_minor": 0,
  "metadata": {
    "colab": {
      "name": "Convolutional neural network for face detection",
      "provenance": [],
      "authorship_tag": "ABX9TyP951BcG64LcQ0C9LZUjjPn",
      "include_colab_link": true
    },
    "kernelspec": {
      "name": "python3",
      "display_name": "Python 3"
    },
    "language_info": {
      "name": "python"
    }
  },
  "cells": [
    {
      "cell_type": "markdown",
      "metadata": {
        "id": "view-in-github",
        "colab_type": "text"
      },
      "source": [
        "<a href=\"https://colab.research.google.com/github/Asif1310/3004/blob/main/Convolutional_neural_network_for_face_detection.ipynb\" target=\"_parent\"><img src=\"https://colab.research.google.com/assets/colab-badge.svg\" alt=\"Open In Colab\"/></a>"
      ]
    },
    {
      "cell_type": "markdown",
      "source": [
        "# Importing the required libraries"
      ],
      "metadata": {
        "id": "6_aHJRre6F55"
      }
    },
    {
      "cell_type": "code",
      "execution_count": 1,
      "metadata": {
        "id": "PT6AQucw4X8i"
      },
      "outputs": [],
      "source": [
        "import numpy as np\n",
        "import tensorflow as tf\n",
        "from keras.preprocessing import image\n",
        "from keras.preprocessing.image import ImageDataGenerator\n",
        "import zipfile\n",
        "import os"
      ]
    },
    {
      "cell_type": "markdown",
      "source": [
        "# Importing the contents of github repository"
      ],
      "metadata": {
        "id": "yharLPbE6UKW"
      }
    },
    {
      "cell_type": "code",
      "source": [
        "!wget -O '/content/main.zip' 'https://github.com/Asif1310/3004/archive/refs/heads/main.zip'\n",
        "zip = zipfile.ZipFile('/content/main.zip','r')\n",
        "zip.extractall('/content')\n",
        "zip.close()"
      ],
      "metadata": {
        "colab": {
          "base_uri": "https://localhost:8080/"
        },
        "id": "bpqXzNUN6Ze8",
        "outputId": "4e6657a1-e0d8-4c50-bf85-1d64c53be5e9"
      },
      "execution_count": 2,
      "outputs": [
        {
          "output_type": "stream",
          "name": "stdout",
          "text": [
            "--2022-02-20 14:08:59--  https://github.com/Asif1310/3004/archive/refs/heads/main.zip\n",
            "Resolving github.com (github.com)... 192.30.255.112\n",
            "Connecting to github.com (github.com)|192.30.255.112|:443... connected.\n",
            "HTTP request sent, awaiting response... 302 Found\n",
            "Location: https://codeload.github.com/Asif1310/3004/zip/refs/heads/main [following]\n",
            "--2022-02-20 14:08:59--  https://codeload.github.com/Asif1310/3004/zip/refs/heads/main\n",
            "Resolving codeload.github.com (codeload.github.com)... 192.30.255.120\n",
            "Connecting to codeload.github.com (codeload.github.com)|192.30.255.120|:443... connected.\n",
            "HTTP request sent, awaiting response... 200 OK\n",
            "Length: unspecified [application/zip]\n",
            "Saving to: ‘/content/main.zip’\n",
            "\n",
            "/content/main.zip       [      <=>           ]  30.57M  26.0MB/s    in 1.2s    \n",
            "\n",
            "2022-02-20 14:09:01 (26.0 MB/s) - ‘/content/main.zip’ saved [32053978]\n",
            "\n"
          ]
        }
      ]
    },
    {
      "cell_type": "markdown",
      "source": [
        "## Extracting the data folder "
      ],
      "metadata": {
        "id": "zaD6QS0lYIql"
      }
    },
    {
      "cell_type": "code",
      "source": [
        "zip = zipfile.ZipFile('/content/3004-main/data.zip','r')\n",
        "zip.extractall('/content')\n",
        "zip.close()"
      ],
      "metadata": {
        "id": "CdcOqafy9bFK"
      },
      "execution_count": 3,
      "outputs": []
    },
    {
      "cell_type": "markdown",
      "source": [
        "## Extracting the animated folder"
      ],
      "metadata": {
        "id": "PxQPwDAbYUsE"
      }
    },
    {
      "cell_type": "code",
      "source": [
        "zip = zipfile.ZipFile('/content/3004-main/animated.zip','r')\n",
        "zip.extractall('/content')\n",
        "zip.close()"
      ],
      "metadata": {
        "id": "nGpCQ6D5X_O0"
      },
      "execution_count": 4,
      "outputs": []
    },
    {
      "cell_type": "markdown",
      "source": [
        "# Preprocessing the images:"
      ],
      "metadata": {
        "id": "MJWxf9Yv9x8G"
      }
    },
    {
      "cell_type": "markdown",
      "source": [
        "i) Training set"
      ],
      "metadata": {
        "id": "iFqCfi_q93s9"
      }
    },
    {
      "cell_type": "code",
      "source": [
        "train_datagen = ImageDataGenerator(rescale = 1./255,\n",
        "                                   shear_range = 0.2,\n",
        "                                   zoom_range = 0.2,\n",
        "                                   horizontal_flip = True)\n",
        "training_set = train_datagen.flow_from_directory('/content/training',\n",
        "                                                 target_size = (64, 64),\n",
        "                                                 batch_size = 32,\n",
        "                                                 class_mode = 'binary')"
      ],
      "metadata": {
        "colab": {
          "base_uri": "https://localhost:8080/"
        },
        "id": "paVgQN669nlj",
        "outputId": "b0887a40-beda-4c2a-da18-c0a830aef4a6"
      },
      "execution_count": 5,
      "outputs": [
        {
          "output_type": "stream",
          "name": "stdout",
          "text": [
            "Found 277 images belonging to 2 classes.\n"
          ]
        }
      ]
    },
    {
      "cell_type": "markdown",
      "source": [
        "ii) Test set"
      ],
      "metadata": {
        "id": "LVBvODL8-LjH"
      }
    },
    {
      "cell_type": "code",
      "source": [
        "test_datagen = ImageDataGenerator(rescale=1./255)\n",
        "test_set = test_datagen.flow_from_directory(\n",
        "        '/content/test',\n",
        "        target_size=(64, 64),\n",
        "        batch_size=32,\n",
        "        class_mode='binary')"
      ],
      "metadata": {
        "colab": {
          "base_uri": "https://localhost:8080/"
        },
        "id": "BzGBp4zY-K9g",
        "outputId": "85c0e0a8-76f0-4f04-f2e1-bdacdfe91caf"
      },
      "execution_count": 6,
      "outputs": [
        {
          "output_type": "stream",
          "name": "stdout",
          "text": [
            "Found 30 images belonging to 2 classes.\n"
          ]
        }
      ]
    },
    {
      "cell_type": "markdown",
      "source": [
        "# Building the model"
      ],
      "metadata": {
        "id": "D4rGhSB6-nPJ"
      }
    },
    {
      "cell_type": "code",
      "source": [
        "model = tf.keras.models.Sequential() #creating an instance of Sequential class \n",
        "model.add(tf.keras.layers.Conv2D(32, (3, 3), activation='relu', input_shape=(64, 64, 3))) #first convolutional layer\n",
        "model.add(tf.keras.layers.MaxPooling2D((2, 2))) #first sub-sampling layer\n",
        "model.add(tf.keras.layers.Conv2D(64, (3, 3), activation='relu')) #second convolutional layer\n",
        "model.add(tf.keras.layers.MaxPooling2D((2, 2))) #second sub-sampling layer\n",
        "model.add(tf.keras.layers.Conv2D(64, (3, 3), activation='relu')) #third convolutional layer"
      ],
      "metadata": {
        "id": "htBJaXXX-oOW"
      },
      "execution_count": 7,
      "outputs": []
    },
    {
      "cell_type": "code",
      "source": [
        "model.summary()"
      ],
      "metadata": {
        "colab": {
          "base_uri": "https://localhost:8080/"
        },
        "id": "g1GqfeoI_KmQ",
        "outputId": "5ade1119-1a54-4384-d5e0-b96c7b7ed040"
      },
      "execution_count": 8,
      "outputs": [
        {
          "output_type": "stream",
          "name": "stdout",
          "text": [
            "Model: \"sequential\"\n",
            "_________________________________________________________________\n",
            " Layer (type)                Output Shape              Param #   \n",
            "=================================================================\n",
            " conv2d (Conv2D)             (None, 62, 62, 32)        896       \n",
            "                                                                 \n",
            " max_pooling2d (MaxPooling2D  (None, 31, 31, 32)       0         \n",
            " )                                                               \n",
            "                                                                 \n",
            " conv2d_1 (Conv2D)           (None, 29, 29, 64)        18496     \n",
            "                                                                 \n",
            " max_pooling2d_1 (MaxPooling  (None, 14, 14, 64)       0         \n",
            " 2D)                                                             \n",
            "                                                                 \n",
            " conv2d_2 (Conv2D)           (None, 12, 12, 64)        36928     \n",
            "                                                                 \n",
            "=================================================================\n",
            "Total params: 56,320\n",
            "Trainable params: 56,320\n",
            "Non-trainable params: 0\n",
            "_________________________________________________________________\n"
          ]
        }
      ]
    },
    {
      "cell_type": "markdown",
      "source": [
        "Creating a flatten layer to convert the input into a vector"
      ],
      "metadata": {
        "id": "rq6armyLb_Tu"
      }
    },
    {
      "cell_type": "code",
      "source": [
        "model.add(tf.keras.layers.Flatten())"
      ],
      "metadata": {
        "id": "KK43DbPD_VdR"
      },
      "execution_count": 9,
      "outputs": []
    },
    {
      "cell_type": "markdown",
      "source": [
        "Creating the fully connected layer and the final output layer "
      ],
      "metadata": {
        "id": "EUmUfwIBcpwb"
      }
    },
    {
      "cell_type": "code",
      "source": [
        "model.add(tf.keras.layers.Dense(128, activation='relu'))\n",
        "model.add(tf.keras.layers.Dense(units=1, activation='sigmoid'))"
      ],
      "metadata": {
        "id": "GRX8DWrw_YBu"
      },
      "execution_count": 10,
      "outputs": []
    },
    {
      "cell_type": "markdown",
      "source": [
        "#Compiling and training the model:"
      ],
      "metadata": {
        "id": "Wge95lqf_nzW"
      }
    },
    {
      "cell_type": "code",
      "source": [
        "model.compile(optimizer='adam',\n",
        "              loss= 'binary_crossentropy',\n",
        "              metrics=['accuracy'])"
      ],
      "metadata": {
        "id": "kTg1CEP2_pZe"
      },
      "execution_count": 11,
      "outputs": []
    },
    {
      "cell_type": "code",
      "source": [
        "model.fit(x = training_set, validation_data = test_set, epochs = 25)"
      ],
      "metadata": {
        "colab": {
          "base_uri": "https://localhost:8080/"
        },
        "id": "5VJ7htba_58e",
        "outputId": "6dcd2590-1012-418f-e100-a7e99cd82d2b"
      },
      "execution_count": 24,
      "outputs": [
        {
          "output_type": "stream",
          "name": "stdout",
          "text": [
            "Epoch 1/25\n",
            "9/9 [==============================] - 5s 518ms/step - loss: 0.0667 - accuracy: 0.9783 - val_loss: 0.3743 - val_accuracy: 0.8667\n",
            "Epoch 2/25\n",
            "9/9 [==============================] - 5s 487ms/step - loss: 0.0506 - accuracy: 0.9892 - val_loss: 0.5681 - val_accuracy: 0.8000\n",
            "Epoch 3/25\n",
            "9/9 [==============================] - 5s 487ms/step - loss: 0.1187 - accuracy: 0.9747 - val_loss: 0.3996 - val_accuracy: 0.8667\n",
            "Epoch 4/25\n",
            "9/9 [==============================] - 5s 518ms/step - loss: 0.0837 - accuracy: 0.9783 - val_loss: 0.4197 - val_accuracy: 0.8333\n",
            "Epoch 5/25\n",
            "9/9 [==============================] - 5s 489ms/step - loss: 0.0633 - accuracy: 0.9711 - val_loss: 0.3593 - val_accuracy: 0.8667\n",
            "Epoch 6/25\n",
            "9/9 [==============================] - 4s 494ms/step - loss: 0.0585 - accuracy: 0.9747 - val_loss: 0.2780 - val_accuracy: 0.9000\n",
            "Epoch 7/25\n",
            "9/9 [==============================] - 5s 508ms/step - loss: 0.0863 - accuracy: 0.9711 - val_loss: 0.1854 - val_accuracy: 0.9000\n",
            "Epoch 8/25\n",
            "9/9 [==============================] - 4s 467ms/step - loss: 0.0633 - accuracy: 0.9747 - val_loss: 0.2444 - val_accuracy: 0.9000\n",
            "Epoch 9/25\n",
            "9/9 [==============================] - 4s 483ms/step - loss: 0.0568 - accuracy: 0.9783 - val_loss: 0.3916 - val_accuracy: 0.8667\n",
            "Epoch 10/25\n",
            "9/9 [==============================] - 5s 492ms/step - loss: 0.0695 - accuracy: 0.9603 - val_loss: 0.3253 - val_accuracy: 0.9000\n",
            "Epoch 11/25\n",
            "9/9 [==============================] - 4s 496ms/step - loss: 0.0681 - accuracy: 0.9819 - val_loss: 0.2478 - val_accuracy: 0.9333\n",
            "Epoch 12/25\n",
            "9/9 [==============================] - 5s 513ms/step - loss: 0.0689 - accuracy: 0.9783 - val_loss: 0.2667 - val_accuracy: 0.9000\n",
            "Epoch 13/25\n",
            "9/9 [==============================] - 4s 499ms/step - loss: 0.0649 - accuracy: 0.9675 - val_loss: 0.3447 - val_accuracy: 0.9000\n",
            "Epoch 14/25\n",
            "9/9 [==============================] - 5s 490ms/step - loss: 0.0493 - accuracy: 0.9892 - val_loss: 0.2258 - val_accuracy: 0.9000\n",
            "Epoch 15/25\n",
            "9/9 [==============================] - 4s 496ms/step - loss: 0.0491 - accuracy: 0.9856 - val_loss: 0.2492 - val_accuracy: 0.9000\n",
            "Epoch 16/25\n",
            "9/9 [==============================] - 4s 485ms/step - loss: 0.0304 - accuracy: 0.9964 - val_loss: 0.2574 - val_accuracy: 0.9000\n",
            "Epoch 17/25\n",
            "9/9 [==============================] - 5s 496ms/step - loss: 0.0216 - accuracy: 0.9964 - val_loss: 0.3212 - val_accuracy: 0.9333\n",
            "Epoch 18/25\n",
            "9/9 [==============================] - 4s 474ms/step - loss: 0.0198 - accuracy: 0.9964 - val_loss: 0.1772 - val_accuracy: 0.9000\n",
            "Epoch 19/25\n",
            "9/9 [==============================] - 5s 495ms/step - loss: 0.0136 - accuracy: 1.0000 - val_loss: 0.2294 - val_accuracy: 0.9333\n",
            "Epoch 20/25\n",
            "9/9 [==============================] - 4s 504ms/step - loss: 0.0091 - accuracy: 1.0000 - val_loss: 0.3735 - val_accuracy: 0.8667\n",
            "Epoch 21/25\n",
            "9/9 [==============================] - 5s 508ms/step - loss: 0.0160 - accuracy: 0.9964 - val_loss: 0.4816 - val_accuracy: 0.8667\n",
            "Epoch 22/25\n",
            "9/9 [==============================] - 5s 510ms/step - loss: 0.0156 - accuracy: 0.9964 - val_loss: 0.4290 - val_accuracy: 0.8667\n",
            "Epoch 23/25\n",
            "9/9 [==============================] - 4s 503ms/step - loss: 0.0168 - accuracy: 0.9928 - val_loss: 0.4962 - val_accuracy: 0.8333\n",
            "Epoch 24/25\n",
            "9/9 [==============================] - 4s 464ms/step - loss: 0.0083 - accuracy: 1.0000 - val_loss: 0.5024 - val_accuracy: 0.8333\n",
            "Epoch 25/25\n",
            "9/9 [==============================] - 5s 502ms/step - loss: 0.0098 - accuracy: 0.9964 - val_loss: 0.4414 - val_accuracy: 0.8667\n"
          ]
        },
        {
          "output_type": "execute_result",
          "data": {
            "text/plain": [
              "<keras.callbacks.History at 0x7f1d8c037cd0>"
            ]
          },
          "metadata": {},
          "execution_count": 24
        }
      ]
    },
    {
      "cell_type": "markdown",
      "source": [
        "# Using the model to predict some images"
      ],
      "metadata": {
        "id": "yFlrgYavCSbM"
      }
    },
    {
      "cell_type": "markdown",
      "source": [
        "Defining a function named 'load_predict' which upon passing the directory name as the parameter returns predictions on all the images stored by that directory"
      ],
      "metadata": {
        "id": "f8veytwnc4ZS"
      }
    },
    {
      "cell_type": "code",
      "source": [
        "def load_predict(directory):\n",
        "  prediction_names = []\n",
        "  for i in os.listdir(directory):\n",
        "    j = directory + i\n",
        "    test1 = image.load_img(j, target_size = (64, 64))\n",
        "    test1 = image.img_to_array(test1)\n",
        "    test1 = np.expand_dims(test1, axis = 0)\n",
        "    pred = model.predict(test1)\n",
        "    if pred == 0:\n",
        "      pred1 = \"Ronaldo\"\n",
        "    else:\n",
        "      pred1 = \"messi\"\n",
        "    prediction_names.append(pred1)\n",
        "  return prediction_names"
      ],
      "metadata": {
        "id": "r5V9pO_9V2mY"
      },
      "execution_count": 19,
      "outputs": []
    },
    {
      "cell_type": "markdown",
      "source": [
        "i) Predictions on the test set of Ronaldo images"
      ],
      "metadata": {
        "id": "PACGVnNySvUY"
      }
    },
    {
      "cell_type": "code",
      "source": [
        "directory = '/content/test/class 0/'\n",
        "pred = load_predict(directory)\n",
        "print(\"Number of Ronaldo predictions : %2d\" %(pred.count('Ronaldo')))\n",
        "print(\"Number of Messi predictions : %2d\" %(pred.count('messi')))"
      ],
      "metadata": {
        "colab": {
          "base_uri": "https://localhost:8080/"
        },
        "id": "QmU2CUwKOAn1",
        "outputId": "13346bf6-0098-4c70-fbdc-977276274e12"
      },
      "execution_count": 25,
      "outputs": [
        {
          "output_type": "stream",
          "name": "stdout",
          "text": [
            "Number of Ronaldo predictions : 13\n",
            "Number of Messi predictions :  2\n"
          ]
        }
      ]
    },
    {
      "cell_type": "markdown",
      "source": [
        "ii) Predictions on the test set of Messi images"
      ],
      "metadata": {
        "id": "L9iZ3CRiSzsg"
      }
    },
    {
      "cell_type": "code",
      "source": [
        "directory = '/content/test/class 1/'\n",
        "pred = load_predict(directory)\n",
        "print(\"Number of Ronaldo predictions : %2d\" %(pred.count('Ronaldo')))\n",
        "print(\"Number of Messi predictions : %2d\" %(pred.count('messi')))"
      ],
      "metadata": {
        "colab": {
          "base_uri": "https://localhost:8080/"
        },
        "id": "SjiyJshdS9P9",
        "outputId": "4ed097f6-4055-46e2-e58b-62a4d39c59e3"
      },
      "execution_count": 26,
      "outputs": [
        {
          "output_type": "stream",
          "name": "stdout",
          "text": [
            "Number of Ronaldo predictions :  3\n",
            "Number of Messi predictions : 12\n"
          ]
        }
      ]
    },
    {
      "cell_type": "markdown",
      "source": [
        "iii) Predictions on the animated set of Ronaldo images"
      ],
      "metadata": {
        "id": "wr868PKZUY3F"
      }
    },
    {
      "cell_type": "code",
      "source": [
        "directory = '/content/Ronaldo_animated/'\n",
        "pred = load_predict(directory)\n",
        "print(\"Number of Ronaldo predictions : %2d\" %(pred.count('Ronaldo')))\n",
        "print(\"Number of Messi predictions : %2d\" %(pred.count('messi')))"
      ],
      "metadata": {
        "colab": {
          "base_uri": "https://localhost:8080/"
        },
        "id": "oEVMBsu8UbX9",
        "outputId": "37fe5570-f8a6-4a0e-ad97-2b6aacce7558"
      },
      "execution_count": 27,
      "outputs": [
        {
          "output_type": "stream",
          "name": "stdout",
          "text": [
            "Number of Ronaldo predictions : 18\n",
            "Number of Messi predictions :  7\n"
          ]
        }
      ]
    },
    {
      "cell_type": "markdown",
      "source": [
        "iv) Predictions on the animated set of Messi images"
      ],
      "metadata": {
        "id": "U3hf9wM0U1eo"
      }
    },
    {
      "cell_type": "code",
      "source": [
        "directory = '/content/Messi_animated/'\n",
        "pred = load_predict(directory)\n",
        "print(\"Number of Ronaldo predictions : %2d\" %(pred.count('Ronaldo')))\n",
        "print(\"Number of Messi predictions : %2d\" %(pred.count('messi')))"
      ],
      "metadata": {
        "colab": {
          "base_uri": "https://localhost:8080/"
        },
        "id": "h_-dWzNwU50W",
        "outputId": "351bbb7f-7fea-464d-e2ce-12aa4eb49c9e"
      },
      "execution_count": 28,
      "outputs": [
        {
          "output_type": "stream",
          "name": "stdout",
          "text": [
            "Number of Ronaldo predictions : 11\n",
            "Number of Messi predictions : 14\n"
          ]
        }
      ]
    }
  ]
}