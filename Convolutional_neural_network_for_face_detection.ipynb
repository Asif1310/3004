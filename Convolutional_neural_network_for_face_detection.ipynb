{
  "nbformat": 4,
  "nbformat_minor": 0,
  "metadata": {
    "colab": {
      "name": "Convolutional neural network for face detection",
      "provenance": [],
      "authorship_tag": "ABX9TyPXVWCyAhC+BykgtXJzHLTK",
      "include_colab_link": true
    },
    "kernelspec": {
      "name": "python3",
      "display_name": "Python 3"
    },
    "language_info": {
      "name": "python"
    }
  },
  "cells": [
    {
      "cell_type": "markdown",
      "metadata": {
        "id": "view-in-github",
        "colab_type": "text"
      },
      "source": [
        "<a href=\"https://colab.research.google.com/github/Asif1310/3004/blob/main/Convolutional_neural_network_for_face_detection.ipynb\" target=\"_parent\"><img src=\"https://colab.research.google.com/assets/colab-badge.svg\" alt=\"Open In Colab\"/></a>"
      ]
    },
    {
      "cell_type": "markdown",
      "source": [
        "# Importing the required libraries"
      ],
      "metadata": {
        "id": "6_aHJRre6F55"
      }
    },
    {
      "cell_type": "code",
      "execution_count": 1,
      "metadata": {
        "id": "PT6AQucw4X8i"
      },
      "outputs": [],
      "source": [
        "import numpy as np\n",
        "import tensorflow as tf\n",
        "from keras.preprocessing import image\n",
        "from keras.preprocessing.image import ImageDataGenerator\n",
        "import zipfile\n",
        "import os"
      ]
    },
    {
      "cell_type": "markdown",
      "source": [
        "# Importing the contents of github repository"
      ],
      "metadata": {
        "id": "yharLPbE6UKW"
      }
    },
    {
      "cell_type": "code",
      "source": [
        "!wget -O '/content/main.zip' 'https://github.com/Asif1310/3004/archive/refs/heads/main.zip'\n",
        "zip = zipfile.ZipFile('/content/main.zip','r')\n",
        "zip.extractall('/content')\n",
        "zip.close()"
      ],
      "metadata": {
        "colab": {
          "base_uri": "https://localhost:8080/"
        },
        "id": "bpqXzNUN6Ze8",
        "outputId": "535f7ddd-8a5d-4ace-a645-96b16ecd0c6c"
      },
      "execution_count": 2,
      "outputs": [
        {
          "output_type": "stream",
          "name": "stdout",
          "text": [
            "--2022-03-01 08:27:19--  https://github.com/Asif1310/3004/archive/refs/heads/main.zip\n",
            "Resolving github.com (github.com)... 140.82.114.4\n",
            "Connecting to github.com (github.com)|140.82.114.4|:443... connected.\n",
            "HTTP request sent, awaiting response... 302 Found\n",
            "Location: https://codeload.github.com/Asif1310/3004/zip/refs/heads/main [following]\n",
            "--2022-03-01 08:27:19--  https://codeload.github.com/Asif1310/3004/zip/refs/heads/main\n",
            "Resolving codeload.github.com (codeload.github.com)... 140.82.112.9\n",
            "Connecting to codeload.github.com (codeload.github.com)|140.82.112.9|:443... connected.\n",
            "HTTP request sent, awaiting response... 200 OK\n",
            "Length: unspecified [application/zip]\n",
            "Saving to: ‘/content/main.zip’\n",
            "\n",
            "/content/main.zip       [   <=>              ]  30.58M  23.2MB/s    in 1.3s    \n",
            "\n",
            "2022-03-01 08:27:20 (23.2 MB/s) - ‘/content/main.zip’ saved [32068422]\n",
            "\n"
          ]
        }
      ]
    },
    {
      "cell_type": "markdown",
      "source": [
        "## Extracting the data folder "
      ],
      "metadata": {
        "id": "zaD6QS0lYIql"
      }
    },
    {
      "cell_type": "code",
      "source": [
        "zip = zipfile.ZipFile('/content/3004-main/data.zip','r')\n",
        "zip.extractall('/content')\n",
        "zip.close()"
      ],
      "metadata": {
        "id": "CdcOqafy9bFK"
      },
      "execution_count": 3,
      "outputs": []
    },
    {
      "cell_type": "markdown",
      "source": [
        "## Extracting the animated folder"
      ],
      "metadata": {
        "id": "PxQPwDAbYUsE"
      }
    },
    {
      "cell_type": "code",
      "source": [
        "zip = zipfile.ZipFile('/content/3004-main/animated.zip','r')\n",
        "zip.extractall('/content')\n",
        "zip.close()"
      ],
      "metadata": {
        "id": "nGpCQ6D5X_O0"
      },
      "execution_count": 4,
      "outputs": []
    },
    {
      "cell_type": "markdown",
      "source": [
        "# Preprocessing the images:"
      ],
      "metadata": {
        "id": "MJWxf9Yv9x8G"
      }
    },
    {
      "cell_type": "markdown",
      "source": [
        "i) Training set"
      ],
      "metadata": {
        "id": "iFqCfi_q93s9"
      }
    },
    {
      "cell_type": "code",
      "source": [
        "train_datagen = ImageDataGenerator(rescale = 1./255,\n",
        "                                   shear_range = 0.2,\n",
        "                                   zoom_range = 0.2,\n",
        "                                   horizontal_flip = True)\n",
        "training_set = train_datagen.flow_from_directory('/content/training',\n",
        "                                                 target_size = (64, 64),\n",
        "                                                 batch_size = 32,\n",
        "                                                 class_mode = 'binary')"
      ],
      "metadata": {
        "colab": {
          "base_uri": "https://localhost:8080/"
        },
        "id": "paVgQN669nlj",
        "outputId": "8cf5f6d9-a093-471a-d705-efee8e3ab89f"
      },
      "execution_count": 5,
      "outputs": [
        {
          "output_type": "stream",
          "name": "stdout",
          "text": [
            "Found 277 images belonging to 2 classes.\n"
          ]
        }
      ]
    },
    {
      "cell_type": "markdown",
      "source": [
        "ii) Test set"
      ],
      "metadata": {
        "id": "LVBvODL8-LjH"
      }
    },
    {
      "cell_type": "code",
      "source": [
        "test_datagen = ImageDataGenerator(rescale=1./255)\n",
        "test_set = test_datagen.flow_from_directory(\n",
        "        '/content/test',\n",
        "        target_size=(64, 64),\n",
        "        batch_size=32,\n",
        "        class_mode='binary')"
      ],
      "metadata": {
        "colab": {
          "base_uri": "https://localhost:8080/"
        },
        "id": "BzGBp4zY-K9g",
        "outputId": "ca324621-b466-4e67-bb18-2deb4acdf902"
      },
      "execution_count": 6,
      "outputs": [
        {
          "output_type": "stream",
          "name": "stdout",
          "text": [
            "Found 30 images belonging to 2 classes.\n"
          ]
        }
      ]
    },
    {
      "cell_type": "markdown",
      "source": [
        "# Building the model"
      ],
      "metadata": {
        "id": "D4rGhSB6-nPJ"
      }
    },
    {
      "cell_type": "code",
      "source": [
        "model = tf.keras.models.Sequential() #creating an instance of Sequential class \n",
        "model.add(tf.keras.layers.Conv2D(32, (3, 3), activation='relu', input_shape=(64, 64, 3))) #first convolutional layer\n",
        "model.add(tf.keras.layers.MaxPooling2D((2, 2))) #first sub-sampling layer\n",
        "model.add(tf.keras.layers.Conv2D(64, (3, 3), activation='relu')) #second convolutional layer\n",
        "model.add(tf.keras.layers.MaxPooling2D((2, 2))) #second sub-sampling layer\n",
        "model.add(tf.keras.layers.Conv2D(64, (3, 3), activation='relu')) #third convolutional layer"
      ],
      "metadata": {
        "id": "htBJaXXX-oOW"
      },
      "execution_count": 7,
      "outputs": []
    },
    {
      "cell_type": "code",
      "source": [
        "model.summary()"
      ],
      "metadata": {
        "colab": {
          "base_uri": "https://localhost:8080/"
        },
        "id": "g1GqfeoI_KmQ",
        "outputId": "4d8360c5-136c-4ef2-83e0-ac35b1fbf248"
      },
      "execution_count": 8,
      "outputs": [
        {
          "output_type": "stream",
          "name": "stdout",
          "text": [
            "Model: \"sequential\"\n",
            "_________________________________________________________________\n",
            " Layer (type)                Output Shape              Param #   \n",
            "=================================================================\n",
            " conv2d (Conv2D)             (None, 62, 62, 32)        896       \n",
            "                                                                 \n",
            " max_pooling2d (MaxPooling2D  (None, 31, 31, 32)       0         \n",
            " )                                                               \n",
            "                                                                 \n",
            " conv2d_1 (Conv2D)           (None, 29, 29, 64)        18496     \n",
            "                                                                 \n",
            " max_pooling2d_1 (MaxPooling  (None, 14, 14, 64)       0         \n",
            " 2D)                                                             \n",
            "                                                                 \n",
            " conv2d_2 (Conv2D)           (None, 12, 12, 64)        36928     \n",
            "                                                                 \n",
            "=================================================================\n",
            "Total params: 56,320\n",
            "Trainable params: 56,320\n",
            "Non-trainable params: 0\n",
            "_________________________________________________________________\n"
          ]
        }
      ]
    },
    {
      "cell_type": "markdown",
      "source": [
        "Creating a flatten layer to convert the input into a vector"
      ],
      "metadata": {
        "id": "rq6armyLb_Tu"
      }
    },
    {
      "cell_type": "code",
      "source": [
        "model.add(tf.keras.layers.Flatten())"
      ],
      "metadata": {
        "id": "KK43DbPD_VdR"
      },
      "execution_count": 9,
      "outputs": []
    },
    {
      "cell_type": "markdown",
      "source": [
        "Creating the fully connected layer and the final output layer "
      ],
      "metadata": {
        "id": "EUmUfwIBcpwb"
      }
    },
    {
      "cell_type": "code",
      "source": [
        "model.add(tf.keras.layers.Dense(128, activation='relu'))\n",
        "model.add(tf.keras.layers.Dense(units=1, activation='sigmoid'))"
      ],
      "metadata": {
        "id": "GRX8DWrw_YBu"
      },
      "execution_count": 10,
      "outputs": []
    },
    {
      "cell_type": "markdown",
      "source": [
        "#Compiling and training the model:"
      ],
      "metadata": {
        "id": "Wge95lqf_nzW"
      }
    },
    {
      "cell_type": "code",
      "source": [
        "model.compile(optimizer='adam',\n",
        "              loss= 'binary_crossentropy',\n",
        "              metrics=['accuracy'])"
      ],
      "metadata": {
        "id": "kTg1CEP2_pZe"
      },
      "execution_count": 11,
      "outputs": []
    },
    {
      "cell_type": "code",
      "source": [
        "model.fit(x = training_set, validation_data = test_set, epochs = 50)"
      ],
      "metadata": {
        "colab": {
          "base_uri": "https://localhost:8080/"
        },
        "id": "5VJ7htba_58e",
        "outputId": "fba558e3-88fe-448f-d4a7-36b6c3871e01"
      },
      "execution_count": 12,
      "outputs": [
        {
          "output_type": "stream",
          "name": "stdout",
          "text": [
            "Epoch 1/50\n",
            "9/9 [==============================] - 8s 867ms/step - loss: 0.7651 - accuracy: 0.5054 - val_loss: 0.6926 - val_accuracy: 0.4333\n",
            "Epoch 2/50\n",
            "9/9 [==============================] - 4s 453ms/step - loss: 0.6931 - accuracy: 0.5126 - val_loss: 0.6931 - val_accuracy: 0.5000\n",
            "Epoch 3/50\n",
            "9/9 [==============================] - 4s 446ms/step - loss: 0.6920 - accuracy: 0.5271 - val_loss: 0.6930 - val_accuracy: 0.5667\n",
            "Epoch 4/50\n",
            "9/9 [==============================] - 4s 437ms/step - loss: 0.6884 - accuracy: 0.5379 - val_loss: 0.6919 - val_accuracy: 0.5667\n",
            "Epoch 5/50\n",
            "9/9 [==============================] - 4s 440ms/step - loss: 0.6880 - accuracy: 0.6137 - val_loss: 0.6907 - val_accuracy: 0.6333\n",
            "Epoch 6/50\n",
            "9/9 [==============================] - 4s 453ms/step - loss: 0.6736 - accuracy: 0.6065 - val_loss: 0.6971 - val_accuracy: 0.5000\n",
            "Epoch 7/50\n",
            "9/9 [==============================] - 4s 457ms/step - loss: 0.6455 - accuracy: 0.6390 - val_loss: 0.8628 - val_accuracy: 0.4667\n",
            "Epoch 8/50\n",
            "9/9 [==============================] - 4s 469ms/step - loss: 0.6676 - accuracy: 0.6101 - val_loss: 0.7104 - val_accuracy: 0.5333\n",
            "Epoch 9/50\n",
            "9/9 [==============================] - 4s 452ms/step - loss: 0.6429 - accuracy: 0.6137 - val_loss: 0.7198 - val_accuracy: 0.6000\n",
            "Epoch 10/50\n",
            "9/9 [==============================] - 4s 463ms/step - loss: 0.6123 - accuracy: 0.6931 - val_loss: 0.7664 - val_accuracy: 0.5667\n",
            "Epoch 11/50\n",
            "9/9 [==============================] - 4s 466ms/step - loss: 0.5808 - accuracy: 0.7004 - val_loss: 0.7614 - val_accuracy: 0.6333\n",
            "Epoch 12/50\n",
            "9/9 [==============================] - 4s 445ms/step - loss: 0.5451 - accuracy: 0.7365 - val_loss: 0.8835 - val_accuracy: 0.5333\n",
            "Epoch 13/50\n",
            "9/9 [==============================] - 4s 456ms/step - loss: 0.5151 - accuracy: 0.7509 - val_loss: 0.7081 - val_accuracy: 0.5333\n",
            "Epoch 14/50\n",
            "9/9 [==============================] - 4s 453ms/step - loss: 0.5451 - accuracy: 0.7040 - val_loss: 0.6330 - val_accuracy: 0.5667\n",
            "Epoch 15/50\n",
            "9/9 [==============================] - 4s 468ms/step - loss: 0.4855 - accuracy: 0.7726 - val_loss: 0.6944 - val_accuracy: 0.5333\n",
            "Epoch 16/50\n",
            "9/9 [==============================] - 4s 452ms/step - loss: 0.4426 - accuracy: 0.8123 - val_loss: 0.5425 - val_accuracy: 0.6667\n",
            "Epoch 17/50\n",
            "9/9 [==============================] - 5s 488ms/step - loss: 0.4536 - accuracy: 0.7834 - val_loss: 0.5771 - val_accuracy: 0.6333\n",
            "Epoch 18/50\n",
            "9/9 [==============================] - 4s 450ms/step - loss: 0.4104 - accuracy: 0.8159 - val_loss: 0.5786 - val_accuracy: 0.7000\n",
            "Epoch 19/50\n",
            "9/9 [==============================] - 4s 440ms/step - loss: 0.3936 - accuracy: 0.8051 - val_loss: 0.4756 - val_accuracy: 0.7000\n",
            "Epoch 20/50\n",
            "9/9 [==============================] - 4s 432ms/step - loss: 0.3794 - accuracy: 0.8303 - val_loss: 0.4729 - val_accuracy: 0.6667\n",
            "Epoch 21/50\n",
            "9/9 [==============================] - 4s 457ms/step - loss: 0.3311 - accuracy: 0.8484 - val_loss: 0.4951 - val_accuracy: 0.7000\n",
            "Epoch 22/50\n",
            "9/9 [==============================] - 4s 442ms/step - loss: 0.2926 - accuracy: 0.8845 - val_loss: 0.4473 - val_accuracy: 0.7000\n",
            "Epoch 23/50\n",
            "9/9 [==============================] - 4s 450ms/step - loss: 0.2928 - accuracy: 0.8628 - val_loss: 0.4190 - val_accuracy: 0.7667\n",
            "Epoch 24/50\n",
            "9/9 [==============================] - 4s 446ms/step - loss: 0.2657 - accuracy: 0.8809 - val_loss: 0.4178 - val_accuracy: 0.7667\n",
            "Epoch 25/50\n",
            "9/9 [==============================] - 4s 453ms/step - loss: 0.2324 - accuracy: 0.8953 - val_loss: 0.4926 - val_accuracy: 0.6333\n",
            "Epoch 26/50\n",
            "9/9 [==============================] - 4s 446ms/step - loss: 0.2202 - accuracy: 0.9206 - val_loss: 0.4612 - val_accuracy: 0.7333\n",
            "Epoch 27/50\n",
            "9/9 [==============================] - 4s 426ms/step - loss: 0.2319 - accuracy: 0.9242 - val_loss: 0.4102 - val_accuracy: 0.8333\n",
            "Epoch 28/50\n",
            "9/9 [==============================] - 4s 478ms/step - loss: 0.1591 - accuracy: 0.9386 - val_loss: 0.3911 - val_accuracy: 0.7667\n",
            "Epoch 29/50\n",
            "9/9 [==============================] - 4s 418ms/step - loss: 0.2037 - accuracy: 0.9134 - val_loss: 0.3346 - val_accuracy: 0.8333\n",
            "Epoch 30/50\n",
            "9/9 [==============================] - 4s 442ms/step - loss: 0.1205 - accuracy: 0.9711 - val_loss: 0.2661 - val_accuracy: 0.9000\n",
            "Epoch 31/50\n",
            "9/9 [==============================] - 4s 444ms/step - loss: 0.1236 - accuracy: 0.9531 - val_loss: 0.2445 - val_accuracy: 0.8667\n",
            "Epoch 32/50\n",
            "9/9 [==============================] - 4s 458ms/step - loss: 0.1286 - accuracy: 0.9495 - val_loss: 0.2965 - val_accuracy: 0.8333\n",
            "Epoch 33/50\n",
            "9/9 [==============================] - 4s 456ms/step - loss: 0.1292 - accuracy: 0.9531 - val_loss: 0.2261 - val_accuracy: 0.9000\n",
            "Epoch 34/50\n",
            "9/9 [==============================] - 4s 455ms/step - loss: 0.1169 - accuracy: 0.9495 - val_loss: 0.1508 - val_accuracy: 0.9333\n",
            "Epoch 35/50\n",
            "9/9 [==============================] - 4s 446ms/step - loss: 0.0797 - accuracy: 0.9783 - val_loss: 0.2823 - val_accuracy: 0.8667\n",
            "Epoch 36/50\n",
            "9/9 [==============================] - 4s 457ms/step - loss: 0.0975 - accuracy: 0.9603 - val_loss: 0.2377 - val_accuracy: 0.8667\n",
            "Epoch 37/50\n",
            "9/9 [==============================] - 4s 461ms/step - loss: 0.0918 - accuracy: 0.9675 - val_loss: 0.3492 - val_accuracy: 0.8333\n",
            "Epoch 38/50\n",
            "9/9 [==============================] - 4s 460ms/step - loss: 0.0648 - accuracy: 0.9675 - val_loss: 0.1945 - val_accuracy: 0.9000\n",
            "Epoch 39/50\n",
            "9/9 [==============================] - 4s 448ms/step - loss: 0.0731 - accuracy: 0.9747 - val_loss: 0.1882 - val_accuracy: 0.9000\n",
            "Epoch 40/50\n",
            "9/9 [==============================] - 4s 454ms/step - loss: 0.0984 - accuracy: 0.9711 - val_loss: 0.5110 - val_accuracy: 0.8667\n",
            "Epoch 41/50\n",
            "9/9 [==============================] - 4s 458ms/step - loss: 0.1629 - accuracy: 0.9531 - val_loss: 0.2427 - val_accuracy: 0.9333\n",
            "Epoch 42/50\n",
            "9/9 [==============================] - 4s 460ms/step - loss: 0.0973 - accuracy: 0.9711 - val_loss: 0.3649 - val_accuracy: 0.8667\n",
            "Epoch 43/50\n",
            "9/9 [==============================] - 4s 465ms/step - loss: 0.0807 - accuracy: 0.9783 - val_loss: 0.2603 - val_accuracy: 0.9000\n",
            "Epoch 44/50\n",
            "9/9 [==============================] - 4s 443ms/step - loss: 0.0644 - accuracy: 0.9856 - val_loss: 0.3353 - val_accuracy: 0.9000\n",
            "Epoch 45/50\n",
            "9/9 [==============================] - 4s 457ms/step - loss: 0.0928 - accuracy: 0.9747 - val_loss: 0.2845 - val_accuracy: 0.9000\n",
            "Epoch 46/50\n",
            "9/9 [==============================] - 4s 471ms/step - loss: 0.0955 - accuracy: 0.9531 - val_loss: 0.2075 - val_accuracy: 0.9000\n",
            "Epoch 47/50\n",
            "9/9 [==============================] - 4s 447ms/step - loss: 0.0719 - accuracy: 0.9711 - val_loss: 0.2745 - val_accuracy: 0.8333\n",
            "Epoch 48/50\n",
            "9/9 [==============================] - 4s 464ms/step - loss: 0.0830 - accuracy: 0.9711 - val_loss: 0.1242 - val_accuracy: 0.9333\n",
            "Epoch 49/50\n",
            "9/9 [==============================] - 4s 431ms/step - loss: 0.0522 - accuracy: 0.9819 - val_loss: 0.1913 - val_accuracy: 0.8667\n",
            "Epoch 50/50\n",
            "9/9 [==============================] - 4s 455ms/step - loss: 0.0596 - accuracy: 0.9783 - val_loss: 0.1404 - val_accuracy: 0.9333\n"
          ]
        },
        {
          "output_type": "execute_result",
          "data": {
            "text/plain": [
              "<keras.callbacks.History at 0x7f2eb0f1a790>"
            ]
          },
          "metadata": {},
          "execution_count": 12
        }
      ]
    },
    {
      "cell_type": "markdown",
      "source": [
        "# Using the model to predict some images"
      ],
      "metadata": {
        "id": "yFlrgYavCSbM"
      }
    },
    {
      "cell_type": "markdown",
      "source": [
        "Defining a function named 'load_predict' which upon passing the directory name as the parameter returns predictions on all the images stored by that directory"
      ],
      "metadata": {
        "id": "f8veytwnc4ZS"
      }
    },
    {
      "cell_type": "code",
      "source": [
        "def load_predict(directory):\n",
        "  prediction_names = []\n",
        "  for i in os.listdir(directory):\n",
        "    j = directory + i\n",
        "    test1 = image.load_img(j, target_size = (64, 64))\n",
        "    test1 = image.img_to_array(test1)\n",
        "    test1 = np.expand_dims(test1, axis = 0)\n",
        "    pred = model.predict(test1)\n",
        "    if pred == 0:\n",
        "      pred1 = \"Ronaldo\"\n",
        "    else:\n",
        "      pred1 = \"messi\"\n",
        "    prediction_names.append(pred1)\n",
        "  return prediction_names"
      ],
      "metadata": {
        "id": "r5V9pO_9V2mY"
      },
      "execution_count": 13,
      "outputs": []
    },
    {
      "cell_type": "markdown",
      "source": [
        "i) Predictions on the test set of Ronaldo images"
      ],
      "metadata": {
        "id": "PACGVnNySvUY"
      }
    },
    {
      "cell_type": "code",
      "source": [
        "directory = '/content/test/class 0/'\n",
        "pred = load_predict(directory)\n",
        "print(\"Number of Ronaldo predictions : %2d\" %(pred.count('Ronaldo')))\n",
        "print(\"Number of Messi predictions : %2d\" %(pred.count('messi')))"
      ],
      "metadata": {
        "colab": {
          "base_uri": "https://localhost:8080/"
        },
        "id": "QmU2CUwKOAn1",
        "outputId": "c9d31941-573c-4fe0-fa31-522c9396c1c5"
      },
      "execution_count": 14,
      "outputs": [
        {
          "output_type": "stream",
          "name": "stdout",
          "text": [
            "Number of Ronaldo predictions : 13\n",
            "Number of Messi predictions :  2\n"
          ]
        }
      ]
    },
    {
      "cell_type": "markdown",
      "source": [
        "ii) Predictions on the test set of Messi images"
      ],
      "metadata": {
        "id": "L9iZ3CRiSzsg"
      }
    },
    {
      "cell_type": "code",
      "source": [
        "directory = '/content/test/class 1/'\n",
        "pred = load_predict(directory)\n",
        "print(\"Number of Ronaldo predictions : %2d\" %(pred.count('Ronaldo')))\n",
        "print(\"Number of Messi predictions : %2d\" %(pred.count('messi')))"
      ],
      "metadata": {
        "colab": {
          "base_uri": "https://localhost:8080/"
        },
        "id": "SjiyJshdS9P9",
        "outputId": "6f1820bb-2ad6-4c03-ce82-31e1c07ff1e2"
      },
      "execution_count": 15,
      "outputs": [
        {
          "output_type": "stream",
          "name": "stdout",
          "text": [
            "Number of Ronaldo predictions :  2\n",
            "Number of Messi predictions : 13\n"
          ]
        }
      ]
    },
    {
      "cell_type": "markdown",
      "source": [
        "iii) Predictions on the animated set of Ronaldo images"
      ],
      "metadata": {
        "id": "wr868PKZUY3F"
      }
    },
    {
      "cell_type": "code",
      "source": [
        "directory = '/content/Ronaldo_animated/'\n",
        "pred = load_predict(directory)\n",
        "print(\"Number of Ronaldo predictions : %2d\" %(pred.count('Ronaldo')))\n",
        "print(\"Number of Messi predictions : %2d\" %(pred.count('messi')))"
      ],
      "metadata": {
        "colab": {
          "base_uri": "https://localhost:8080/"
        },
        "id": "oEVMBsu8UbX9",
        "outputId": "8fceab28-e449-41fc-f261-2e6857084ac2"
      },
      "execution_count": 16,
      "outputs": [
        {
          "output_type": "stream",
          "name": "stdout",
          "text": [
            "Number of Ronaldo predictions : 17\n",
            "Number of Messi predictions :  8\n"
          ]
        }
      ]
    },
    {
      "cell_type": "markdown",
      "source": [
        "iv) Predictions on the animated set of Messi images"
      ],
      "metadata": {
        "id": "U3hf9wM0U1eo"
      }
    },
    {
      "cell_type": "code",
      "source": [
        "directory = '/content/Messi_animated/'\n",
        "pred = load_predict(directory)\n",
        "print(\"Number of Ronaldo predictions : %2d\" %(pred.count('Ronaldo')))\n",
        "print(\"Number of Messi predictions : %2d\" %(pred.count('messi')))"
      ],
      "metadata": {
        "colab": {
          "base_uri": "https://localhost:8080/"
        },
        "id": "h_-dWzNwU50W",
        "outputId": "15eeb46b-fc2c-45f9-acc5-8a7bf58fc34e"
      },
      "execution_count": 17,
      "outputs": [
        {
          "output_type": "stream",
          "name": "stdout",
          "text": [
            "Number of Ronaldo predictions :  8\n",
            "Number of Messi predictions : 17\n"
          ]
        }
      ]
    },
    {
      "cell_type": "markdown",
      "source": [
        "Prediction on the famous 'bust' image of Ronaldo"
      ],
      "metadata": {
        "id": "XNt6gvcCiqCw"
      }
    },
    {
      "cell_type": "code",
      "source": [
        "zip = zipfile.ZipFile('/content/3004-main/Ronaldo Bust image.zip','r')\n",
        "zip.extractall('/content')\n",
        "zip.close()"
      ],
      "metadata": {
        "id": "EFpboPNdipeN"
      },
      "execution_count": 18,
      "outputs": []
    },
    {
      "cell_type": "code",
      "source": [
        "test1 = image.load_img('/content/Ronaldo Bust image.jpg', target_size = (64, 64))\n",
        "test1 = image.img_to_array(test1)\n",
        "test1 = np.expand_dims(test1, axis = 0)\n",
        "pred = model.predict(test1)\n",
        "if pred==0:\n",
        "  print('Ronaldo')\n",
        "else:\n",
        "  print('Messi')"
      ],
      "metadata": {
        "id": "-EGX10MAixIX",
        "outputId": "96364801-c440-481a-8ee7-f6d1e6d30d7a",
        "colab": {
          "base_uri": "https://localhost:8080/"
        }
      },
      "execution_count": 19,
      "outputs": [
        {
          "output_type": "stream",
          "name": "stdout",
          "text": [
            "Ronaldo\n"
          ]
        }
      ]
    }
  ]
}